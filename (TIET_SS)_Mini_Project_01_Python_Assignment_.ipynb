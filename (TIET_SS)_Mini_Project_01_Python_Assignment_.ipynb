{
  "nbformat": 4,
  "nbformat_minor": 0,
  "metadata": {
    "colab": {
      "provenance": [],
      "authorship_tag": "ABX9TyN3bxQvIFpPWTcCw1TgQ8Ih",
      "include_colab_link": true
    },
    "kernelspec": {
      "name": "python3",
      "display_name": "Python 3"
    },
    "language_info": {
      "name": "python"
    }
  },
  "cells": [
    {
      "cell_type": "markdown",
      "metadata": {
        "id": "view-in-github",
        "colab_type": "text"
      },
      "source": [
        "<a href=\"https://colab.research.google.com/github/ManthanVerma7/-TIET-SS-Mini-Project-01-Python-Assignment/blob/main/(TIET_SS)_Mini_Project_01_Python_Assignment_.ipynb\" target=\"_parent\"><img src=\"https://colab.research.google.com/assets/colab-badge.svg\" alt=\"Open In Colab\"/></a>"
      ]
    },
    {
      "cell_type": "code",
      "source": [
        "# Initial list\n",
        "L = [11, 12, 13, 14]"
      ],
      "metadata": {
        "id": "hljPYPC3aF3y"
      },
      "execution_count": null,
      "outputs": []
    },
    {
      "cell_type": "code",
      "source": [
        "# (i) Add 50 and 60 to L\n",
        "L = [11, 12, 13, 14]\n",
        "L.append(50)\n",
        "L.append(60)\n",
        "print(f\"After adding 50 and 60: {L}\")"
      ],
      "metadata": {
        "colab": {
          "base_uri": "https://localhost:8080/"
        },
        "id": "oARJF2a8bzDK",
        "outputId": "45f92a88-bf52-425a-b640-e56291e7809c"
      },
      "execution_count": null,
      "outputs": [
        {
          "output_type": "stream",
          "name": "stdout",
          "text": [
            "After adding 50 and 60: [11, 12, 13, 14, 50, 60]\n"
          ]
        }
      ]
    },
    {
      "cell_type": "code",
      "source": [
        "# (ii) Remove 11 and 13 from L\n",
        "L = [11, 12, 13, 14]\n",
        "if 11 in L:\n",
        "    L.remove(11)\n",
        "if 13 in L:\n",
        "    L.remove(13)\n",
        "print(f\"After removing 11 and 13: {L}\")"
      ],
      "metadata": {
        "colab": {
          "base_uri": "https://localhost:8080/"
        },
        "id": "MqYuphELcjW3",
        "outputId": "6132e152-7ec5-42f4-fd34-56f0ae1f55cf"
      },
      "execution_count": null,
      "outputs": [
        {
          "output_type": "stream",
          "name": "stdout",
          "text": [
            "After removing 11 and 13: [12, 14, 50, 60]\n"
          ]
        }
      ]
    },
    {
      "cell_type": "code",
      "source": [
        "# (iii) Sort L in ascending order\n",
        "L = [11, 12, 13, 14]\n",
        "L.sort()\n",
        "print(f\"Sorted in ascending order: {L}\")\n"
      ],
      "metadata": {
        "colab": {
          "base_uri": "https://localhost:8080/"
        },
        "id": "wRz5ZWFndT2B",
        "outputId": "115a0a9f-d78e-42f9-ad63-da3154f10c93"
      },
      "execution_count": null,
      "outputs": [
        {
          "output_type": "stream",
          "name": "stdout",
          "text": [
            "Sorted in ascending order: [11, 12, 13, 14]\n"
          ]
        }
      ]
    },
    {
      "cell_type": "code",
      "source": [
        "# (iv) Sort L in descending order\n",
        "L = [11, 12, 13, 14]\n",
        "L.sort(reverse=True)\n",
        "print(f\"Sorted in descending order: {L}\")\n"
      ],
      "metadata": {
        "colab": {
          "base_uri": "https://localhost:8080/"
        },
        "id": "cLCHMCqvd_Lw",
        "outputId": "d1cda048-d478-42cb-c74c-37214035b6bc"
      },
      "execution_count": null,
      "outputs": [
        {
          "output_type": "stream",
          "name": "stdout",
          "text": [
            "Sorted in descending order: [14, 13, 12, 11]\n"
          ]
        }
      ]
    },
    {
      "cell_type": "code",
      "source": [
        "# (v) Search for 13 in L\n",
        "L = [11, 12, 13, 14]\n",
        "print(f\"13 is {'present' if 13 in L else 'not present'} in the list.\")\n"
      ],
      "metadata": {
        "colab": {
          "base_uri": "https://localhost:8080/"
        },
        "id": "opBiA-DIeVvS",
        "outputId": "523fb093-e945-477a-a204-6b2a019ecd4d"
      },
      "execution_count": null,
      "outputs": [
        {
          "output_type": "stream",
          "name": "stdout",
          "text": [
            "13 is not present in the list.\n"
          ]
        }
      ]
    },
    {
      "cell_type": "code",
      "source": [
        "# (vi) Count the number of elements present in L\n",
        "L = [11, 12, 13, 14]\n",
        "print(f\"Number of elements: {len(L)}\")\n"
      ],
      "metadata": {
        "id": "vbUeBQS1ewZD"
      },
      "execution_count": null,
      "outputs": []
    },
    {
      "cell_type": "code",
      "source": [
        "# (vii) Sum all the elements in L\n",
        "L = [11, 12, 13, 14]\n",
        "print(f\"Sum of all elements: {sum(L)}\")\n"
      ],
      "metadata": {
        "id": "D8KhH2jue2E1"
      },
      "execution_count": null,
      "outputs": []
    },
    {
      "cell_type": "code",
      "source": [
        "# (viii) Sum all ODD numbers in L\n",
        "L = [11, 12, 13, 14]\n",
        "odd_sum = 0\n",
        "for x in L:\n",
        "    if x % 2 != 0:\n",
        "        odd_sum += x\n",
        "print(f\"Sum of all odd numbers: {odd_sum}\")\n",
        "\n"
      ],
      "metadata": {
        "id": "pi38o5XBe6k3"
      },
      "execution_count": null,
      "outputs": []
    },
    {
      "cell_type": "code",
      "source": [
        "# (ix) Sum all EVEN numbers in L\n",
        "L = [11, 12, 13, 14]\n",
        "even_sum = 0\n",
        "for x in L:\n",
        "    if x % 2 == 0:\n",
        "        even_sum += x\n",
        "print(f\"Sum of all even numbers: {even_sum}\")\n"
      ],
      "metadata": {
        "id": "NRrrOOgFg7NG"
      },
      "execution_count": null,
      "outputs": []
    },
    {
      "cell_type": "code",
      "source": [
        "# (x) Sum all PRIME numbers in L\n",
        "L = [11, 12, 13, 14]\n",
        "def is_prime(n):\n",
        "    if n < 2:\n",
        "        return False\n",
        "    for i in range(2, int(n ** 0.5) + 1):\n",
        "        if n % i == 0:\n",
        "            return False\n",
        "    return True\n",
        "prime_sum = sum(x for x in L if is_prime(x))\n",
        "print(f\"Sum of all prime numbers: {prime_sum}\")\n"
      ],
      "metadata": {
        "colab": {
          "base_uri": "https://localhost:8080/"
        },
        "id": "uYsehdQnhaCu",
        "outputId": "1899457e-25af-43e6-a953-b9b8a697e9df"
      },
      "execution_count": null,
      "outputs": [
        {
          "output_type": "stream",
          "name": "stdout",
          "text": [
            "Sum of all prime numbers: 24\n"
          ]
        }
      ]
    },
    {
      "cell_type": "code",
      "source": [
        "# (xi) Clear all the elements in L\n",
        "L = [11, 12, 13, 14]\n",
        "L.clear()\n",
        "print(f\"List after clearing: {L}\")\n"
      ],
      "metadata": {
        "colab": {
          "base_uri": "https://localhost:8080/"
        },
        "id": "Pa-nv3pJhrSo",
        "outputId": "25a4c5b6-7374-4fc8-9f19-1710480eb394"
      },
      "execution_count": null,
      "outputs": [
        {
          "output_type": "stream",
          "name": "stdout",
          "text": [
            "List after clearing: []\n"
          ]
        }
      ]
    },
    {
      "cell_type": "code",
      "source": [
        "# (xii) Delete L\n",
        "L = [11, 12, 13, 14]\n",
        "del L\n"
      ],
      "metadata": {
        "id": "MuylfAQ1htuV"
      },
      "execution_count": null,
      "outputs": []
    }
  ]
}