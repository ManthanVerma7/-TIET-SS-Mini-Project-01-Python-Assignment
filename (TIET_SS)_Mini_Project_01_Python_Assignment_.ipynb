{
  "nbformat": 4,
  "nbformat_minor": 0,
  "metadata": {
    "colab": {
      "provenance": [],
      "authorship_tag": "ABX9TyM8IlXqyxVAJ3RyqQnVSxnQ",
      "include_colab_link": true
    },
    "kernelspec": {
      "name": "python3",
      "display_name": "Python 3"
    },
    "language_info": {
      "name": "python"
    }
  },
  "cells": [
    {
      "cell_type": "markdown",
      "metadata": {
        "id": "view-in-github",
        "colab_type": "text"
      },
      "source": [
        "<a href=\"https://colab.research.google.com/github/ManthanVerma7/TIET-SS-MiniProject-01-PythonAssignment/blob/main/(TIET_SS)_Mini_Project_01_Python_Assignment_.ipynb\" target=\"_parent\"><img src=\"https://colab.research.google.com/assets/colab-badge.svg\" alt=\"Open In Colab\"/></a>"
      ]
    },
    {
      "cell_type": "code",
      "source": [
        "# Q1"
      ],
      "metadata": {
        "id": "_0PQFvNKzImQ"
      },
      "execution_count": null,
      "outputs": []
    },
    {
      "cell_type": "code",
      "source": [
        "# Initial list\n",
        "L = [11, 12, 13, 14]"
      ],
      "metadata": {
        "id": "hljPYPC3aF3y"
      },
      "execution_count": null,
      "outputs": []
    },
    {
      "cell_type": "code",
      "source": [
        "# (i) Add 50 and 60 to L\n",
        "L = [11, 12, 13, 14]\n",
        "L.append(50)\n",
        "L.append(60)\n",
        "print(f\"After adding 50 and 60: {L}\")"
      ],
      "metadata": {
        "colab": {
          "base_uri": "https://localhost:8080/"
        },
        "id": "oARJF2a8bzDK",
        "outputId": "45f92a88-bf52-425a-b640-e56291e7809c"
      },
      "execution_count": null,
      "outputs": [
        {
          "output_type": "stream",
          "name": "stdout",
          "text": [
            "After adding 50 and 60: [11, 12, 13, 14, 50, 60]\n"
          ]
        }
      ]
    },
    {
      "cell_type": "code",
      "source": [
        "# (ii) Remove 11 and 13 from L\n",
        "L = [11, 12, 13, 14]\n",
        "if 11 in L:\n",
        "    L.remove(11)\n",
        "if 13 in L:\n",
        "    L.remove(13)\n",
        "print(f\"After removing 11 and 13: {L}\")"
      ],
      "metadata": {
        "colab": {
          "base_uri": "https://localhost:8080/"
        },
        "id": "MqYuphELcjW3",
        "outputId": "6132e152-7ec5-42f4-fd34-56f0ae1f55cf"
      },
      "execution_count": null,
      "outputs": [
        {
          "output_type": "stream",
          "name": "stdout",
          "text": [
            "After removing 11 and 13: [12, 14, 50, 60]\n"
          ]
        }
      ]
    },
    {
      "cell_type": "code",
      "source": [
        "# (iii) Sort L in ascending order\n",
        "L = [11, 12, 13, 14]\n",
        "L.sort()\n",
        "print(f\"Sorted in ascending order: {L}\")\n"
      ],
      "metadata": {
        "colab": {
          "base_uri": "https://localhost:8080/"
        },
        "id": "wRz5ZWFndT2B",
        "outputId": "115a0a9f-d78e-42f9-ad63-da3154f10c93"
      },
      "execution_count": null,
      "outputs": [
        {
          "output_type": "stream",
          "name": "stdout",
          "text": [
            "Sorted in ascending order: [11, 12, 13, 14]\n"
          ]
        }
      ]
    },
    {
      "cell_type": "code",
      "source": [
        "# (iv) Sort L in descending order\n",
        "L = [11, 12, 13, 14]\n",
        "L.sort(reverse=True)\n",
        "print(f\"Sorted in descending order: {L}\")\n"
      ],
      "metadata": {
        "colab": {
          "base_uri": "https://localhost:8080/"
        },
        "id": "cLCHMCqvd_Lw",
        "outputId": "d1cda048-d478-42cb-c74c-37214035b6bc"
      },
      "execution_count": null,
      "outputs": [
        {
          "output_type": "stream",
          "name": "stdout",
          "text": [
            "Sorted in descending order: [14, 13, 12, 11]\n"
          ]
        }
      ]
    },
    {
      "cell_type": "code",
      "source": [
        "# (v) Search for 13 in L\n",
        "L = [11, 12, 13, 14]\n",
        "print(f\"13 is {'present' if 13 in L else 'not present'} in the list.\")\n"
      ],
      "metadata": {
        "colab": {
          "base_uri": "https://localhost:8080/"
        },
        "id": "opBiA-DIeVvS",
        "outputId": "523fb093-e945-477a-a204-6b2a019ecd4d"
      },
      "execution_count": null,
      "outputs": [
        {
          "output_type": "stream",
          "name": "stdout",
          "text": [
            "13 is not present in the list.\n"
          ]
        }
      ]
    },
    {
      "cell_type": "code",
      "source": [
        "# (vi) Count the number of elements present in L\n",
        "L = [11, 12, 13, 14]\n",
        "print(f\"Number of elements: {len(L)}\")\n"
      ],
      "metadata": {
        "id": "vbUeBQS1ewZD"
      },
      "execution_count": null,
      "outputs": []
    },
    {
      "cell_type": "code",
      "source": [
        "# (vii) Sum all the elements in L\n",
        "L = [11, 12, 13, 14]\n",
        "print(f\"Sum of all elements: {sum(L)}\")\n"
      ],
      "metadata": {
        "id": "D8KhH2jue2E1"
      },
      "execution_count": null,
      "outputs": []
    },
    {
      "cell_type": "code",
      "source": [
        "# (viii) Sum all ODD numbers in L\n",
        "L = [11, 12, 13, 14]\n",
        "odd_sum = 0\n",
        "for x in L:\n",
        "    if x % 2 != 0:\n",
        "        odd_sum += x\n",
        "print(f\"Sum of all odd numbers: {odd_sum}\")\n",
        "\n"
      ],
      "metadata": {
        "id": "pi38o5XBe6k3"
      },
      "execution_count": null,
      "outputs": []
    },
    {
      "cell_type": "code",
      "source": [
        "# (ix) Sum all EVEN numbers in L\n",
        "L = [11, 12, 13, 14]\n",
        "even_sum = 0\n",
        "for x in L:\n",
        "    if x % 2 == 0:\n",
        "        even_sum += x\n",
        "print(f\"Sum of all even numbers: {even_sum}\")\n"
      ],
      "metadata": {
        "id": "NRrrOOgFg7NG"
      },
      "execution_count": null,
      "outputs": []
    },
    {
      "cell_type": "code",
      "source": [
        "# (x) Sum all PRIME numbers in L\n",
        "L = [11, 12, 13, 14]\n",
        "def is_prime(n):\n",
        "    if n < 2:\n",
        "        return False\n",
        "    for i in range(2, int(n ** 0.5) + 1):\n",
        "        if n % i == 0:\n",
        "            return False\n",
        "    return True\n",
        "prime_sum = sum(x for x in L if is_prime(x))\n",
        "print(f\"Sum of all prime numbers: {prime_sum}\")\n"
      ],
      "metadata": {
        "colab": {
          "base_uri": "https://localhost:8080/"
        },
        "id": "uYsehdQnhaCu",
        "outputId": "1899457e-25af-43e6-a953-b9b8a697e9df"
      },
      "execution_count": null,
      "outputs": [
        {
          "output_type": "stream",
          "name": "stdout",
          "text": [
            "Sum of all prime numbers: 24\n"
          ]
        }
      ]
    },
    {
      "cell_type": "code",
      "source": [
        "# (xi) Clear all the elements in L\n",
        "L = [11, 12, 13, 14]\n",
        "L.clear()\n",
        "print(f\"List after clearing: {L}\")\n"
      ],
      "metadata": {
        "colab": {
          "base_uri": "https://localhost:8080/"
        },
        "id": "Pa-nv3pJhrSo",
        "outputId": "25a4c5b6-7374-4fc8-9f19-1710480eb394"
      },
      "execution_count": null,
      "outputs": [
        {
          "output_type": "stream",
          "name": "stdout",
          "text": [
            "List after clearing: []\n"
          ]
        }
      ]
    },
    {
      "cell_type": "code",
      "source": [
        "# (xii) Delete L\n",
        "L = [11, 12, 13, 14]\n",
        "del L\n"
      ],
      "metadata": {
        "id": "MuylfAQ1htuV"
      },
      "execution_count": null,
      "outputs": []
    },
    {
      "cell_type": "code",
      "source": [
        "# Q2"
      ],
      "metadata": {
        "id": "c6O7i66XzL3n"
      },
      "execution_count": null,
      "outputs": []
    },
    {
      "cell_type": "code",
      "source": [
        "# Initial dictionary\n",
        "D = {1: 5.6, 2: 7.8, 3: 6.6, 4: 8.7, 5: 7.7}\n"
      ],
      "metadata": {
        "id": "GfJekuXWzTHK"
      },
      "execution_count": 40,
      "outputs": []
    },
    {
      "cell_type": "code",
      "source": [
        "# New entry with key=8 and value=8.8\n",
        "D = {1: 5.6, 2: 7.8, 3: 6.6, 4: 8.7, 5: 7.7}\n",
        "D[8] = 8.8\n",
        "print(f\"After adding key=8, value=8.8: {D}\")\n"
      ],
      "metadata": {
        "id": "aeRry8EFzX6-"
      },
      "execution_count": null,
      "outputs": []
    },
    {
      "cell_type": "code",
      "source": [
        "# Remove key=2 from the dictionary\n",
        "D = {1: 5.6, 2: 7.8, 3: 6.6, 4: 8.7, 5: 7.7}\n",
        "D.pop(2, None)  # Avoids error if key not found\n",
        "print(f\"After removing key=2: {D}\")\n"
      ],
      "metadata": {
        "id": "wajqDXtozefS"
      },
      "execution_count": null,
      "outputs": []
    },
    {
      "cell_type": "code",
      "source": [
        "# Check if key=6 is present\n",
        "D = {1: 5.6, 2: 7.8, 3: 6.6, 4: 8.7, 5: 7.7}\n",
        "print(f\"Key 6 is {'present' if 6 in D else 'not present'} in the dictionary.\")\n"
      ],
      "metadata": {
        "id": "ajvRkmAEzioq"
      },
      "execution_count": null,
      "outputs": []
    },
    {
      "cell_type": "code",
      "source": [
        "# Count number of elements\n",
        "D = {1: 5.6, 2: 7.8, 3: 6.6, 4: 8.7, 5: 7.7}\n",
        "print(f\"Number of elements in dictionary: {len(D)}\")\n"
      ],
      "metadata": {
        "id": "l5omzMWFzpBy"
      },
      "execution_count": null,
      "outputs": []
    },
    {
      "cell_type": "code",
      "source": [
        "# Add all values\n",
        "D = {1: 5.6, 2: 7.8, 3: 6.6, 4: 8.7, 5: 7.7}\n",
        "total = sum(D.values())\n",
        "print(f\"Sum of all values: {total}\")\n"
      ],
      "metadata": {
        "id": "mMCw8s8nzumT"
      },
      "execution_count": null,
      "outputs": []
    },
    {
      "cell_type": "code",
      "source": [
        "# Update value of key=3 to 7.1\n",
        "D = {1: 5.6, 2: 7.8, 3: 6.6, 4: 8.7, 5: 7.7}\n",
        "D[3] = 7.1\n",
        "print(f\"After updating key=3 to 7.1: {D}\")\n"
      ],
      "metadata": {
        "id": "D8fXAggszx3q"
      },
      "execution_count": null,
      "outputs": []
    },
    {
      "cell_type": "code",
      "source": [
        "# Clear the dictionary\n",
        "D = {1: 5.6, 2: 7.8, 3: 6.6, 4: 8.7, 5: 7.7}\n",
        "D.clear()\n",
        "print(f\"Dictionary after clearing: {D}\")\n"
      ],
      "metadata": {
        "id": "QNuhQEpDzz0a"
      },
      "execution_count": null,
      "outputs": []
    },
    {
      "cell_type": "code",
      "source": [
        "# Q3"
      ],
      "metadata": {
        "id": "B0uKubEfz4zr"
      },
      "execution_count": null,
      "outputs": []
    },
    {
      "cell_type": "code",
      "source": [
        "S1 = {10, 20, 30, 40, 50, 60}\n",
        "S2 = {40, 50, 60, 70, 80, 90}\n"
      ],
      "metadata": {
        "id": "4ZAnuIejz7eh"
      },
      "execution_count": null,
      "outputs": []
    },
    {
      "cell_type": "code",
      "source": [
        "# Add 55 and 66 in Set S1\n",
        "S1 = {10, 20, 30, 40, 50, 60}\n",
        "S1.add(55)\n",
        "S1.add(66)\n",
        "print(f\"Set S1 after adding 55 and 66: {S1}\")\n"
      ],
      "metadata": {
        "id": "rM9MSk1l0JFo"
      },
      "execution_count": null,
      "outputs": []
    },
    {
      "cell_type": "code",
      "source": [
        "# Remove 10 and 30 from Set S1\n",
        "S1 = {10, 20, 30, 40, 50, 60}\n",
        "S1.discard(10)\n",
        "S1.discard(30)\n",
        "print(f\"Set S1 after removing 10 and 30: {S1}\")\n"
      ],
      "metadata": {
        "id": "-MvfbZF-0Mx2"
      },
      "execution_count": null,
      "outputs": []
    },
    {
      "cell_type": "code",
      "source": [
        "# Check whether 40 is present in S1\n",
        "S1 = {10, 20, 30, 40, 50, 60}\n",
        "print(f\"40 is {'present' if 40 in S1 else 'not present'} in Set S1.\")\n"
      ],
      "metadata": {
        "id": "y7ZY3HUA0Sm0"
      },
      "execution_count": null,
      "outputs": []
    },
    {
      "cell_type": "code",
      "source": [
        "# Find the union between S1 and S2\n",
        "S1 = {10, 20, 30, 40, 50, 60}\n",
        "S2 = {40, 50, 60, 70, 80, 90}\n",
        "union_set = S1.union(S2)\n",
        "print(f\"Union of S1 and S2: {union_set}\")\n"
      ],
      "metadata": {
        "id": "W8vbhVor0Zzb"
      },
      "execution_count": null,
      "outputs": []
    },
    {
      "cell_type": "code",
      "source": [
        "# Find the intersection between S1 and S2\n",
        "S1 = {10, 20, 30, 40, 50, 60}\n",
        "S2 = {40, 50, 60, 70, 80, 90}\n",
        "intersection_set = S1.intersection(S2)\n",
        "print(f\"Intersection of S1 and S2: {intersection_set}\")\n"
      ],
      "metadata": {
        "id": "Aw88Hx_s0dtO"
      },
      "execution_count": null,
      "outputs": []
    },
    {
      "cell_type": "code",
      "source": [
        "# Find the difference S1 - S2\n",
        "S1 = {10, 20, 30, 40, 50, 60}\n",
        "S2 = {40, 50, 60, 70, 80, 90}\n",
        "difference_set = S1.difference(S2)\n",
        "print(f\"S1 - S2: {difference_set}\")\n"
      ],
      "metadata": {
        "id": "9IPGl1Mw0hAo"
      },
      "execution_count": null,
      "outputs": []
    },
    {
      "cell_type": "code",
      "source": [
        "# Q4"
      ],
      "metadata": {
        "id": "wsXFt0-C1Ah2"
      },
      "execution_count": null,
      "outputs": []
    },
    {
      "cell_type": "code",
      "source": [
        "# Print 100 random strings of length between 6 and 8\n",
        "import random\n",
        "import string\n",
        "\n",
        "print(\"100 random strings (length between 6 and 8):\")\n",
        "for i in range(100):\n",
        "    length = random.randint(6, 8)\n",
        "    random_str = ''\n",
        "    for j in range(length):\n",
        "        random_str += random.choice(string.ascii_letters)\n",
        "    print(f\"{i+1}: {random_str}\")\n"
      ],
      "metadata": {
        "id": "hVJM7cFK1Eff"
      },
      "execution_count": null,
      "outputs": []
    },
    {
      "cell_type": "code",
      "source": [
        "# Print all prime numbers between 600 and 800\n",
        "print(\"Prime numbers between 600 and 800:\")\n",
        "for num in range(600, 801):\n",
        "    is_prime = True\n",
        "    if num < 2:\n",
        "        is_prime = False\n",
        "    else:\n",
        "        for i in range(2, num):\n",
        "            if num % i == 0:\n",
        "                is_prime = False\n",
        "                break\n",
        "    if is_prime:\n",
        "        print(f\"{num}\", end=\" \")\n",
        "print()  # For a new line\n"
      ],
      "metadata": {
        "id": "kce5ybA51RIW"
      },
      "execution_count": null,
      "outputs": []
    },
    {
      "cell_type": "code",
      "source": [
        "# Print numbers between 100 and 1000 divisible by both 7 and 9\n",
        "print(\"Numbers divisible by both 7 and 9 between 100 and 1000:\")\n",
        "for num in range(100, 1001):\n",
        "    if num % 7 == 0 and num % 9 == 0:\n",
        "        print(f\"{num}\", end=\" \")\n",
        "print()\n"
      ],
      "metadata": {
        "id": "70UPeTqR1X3V"
      },
      "execution_count": null,
      "outputs": []
    },
    {
      "cell_type": "code",
      "source": [
        "# Q5"
      ],
      "metadata": {
        "id": "If_J661A1zxU"
      },
      "execution_count": null,
      "outputs": []
    },
    {
      "cell_type": "code",
      "source": [
        "import random\n",
        "\n",
        "# Create two lists of 10 random numbers between 10 and 30\n",
        "list1 = [random.randint(10, 30) for _ in range(10)]\n",
        "list2 = [random.randint(10, 30) for _ in range(10)]\n",
        "print(f\"List 1: {list1}\")\n",
        "print(f\"List 2: {list2}\")\n",
        "\n",
        "# (i) Common numbers in the two lists\n",
        "common = list(set(list1) & set(list2))\n",
        "print(f\"(i) Common numbers: {common}\")\n",
        "\n",
        "# (ii) Unique numbers in both the lists\n",
        "unique_list1 = list(set(list1) - set(list2))\n",
        "unique_list2 = list(set(list2) - set(list1))\n",
        "unique = unique_list1 + unique_list2\n",
        "print(f\"(ii) Unique numbers: {unique}\")\n",
        "\n",
        "# (iii) Minimum in both the lists\n",
        "min_list1 = min(list1)\n",
        "min_list2 = min(list2)\n",
        "print(f\"(iii) Minimum of List 1: {min_list1}\")\n",
        "print(f\"(iii) Minimum of List 2: {min_list2}\")\n",
        "\n",
        "# (iv) Maximum in both the lists\n",
        "max_list1 = max(list1)\n",
        "max_list2 = max(list2)\n",
        "print(f\"(iv) Maximum of List 1: {max_list1}\")\n",
        "print(f\"(iv) Maximum of List 2: {max_list2}\")\n",
        "\n",
        "# (v) Sum of both the lists\n",
        "sum_list1 = sum(list1)\n",
        "sum_list2 = sum(list2)\n",
        "print(f\"(v) Sum of List 1: {sum_list1}\")\n",
        "print(f\"(v) Sum of List 2: {sum_list2}\")\n",
        "print(f\"(v) Total Sum: {sum_list1 + sum_list2}\")\n"
      ],
      "metadata": {
        "colab": {
          "base_uri": "https://localhost:8080/"
        },
        "id": "bTytv6dc11oE",
        "outputId": "1b5096a2-a266-4465-a6d5-27c9c55a5ed2"
      },
      "execution_count": 56,
      "outputs": [
        {
          "output_type": "stream",
          "name": "stdout",
          "text": [
            "List 1: [22, 18, 15, 13, 12, 16, 23, 10, 27, 18]\n",
            "List 2: [30, 29, 25, 23, 10, 16, 18, 20, 30, 10]\n",
            "(i) Common numbers: [16, 10, 18, 23]\n",
            "(ii) Unique numbers: [12, 13, 15, 22, 27, 25, 20, 29, 30]\n",
            "(iii) Minimum of List 1: 10\n",
            "(iii) Minimum of List 2: 10\n",
            "(iv) Maximum of List 1: 27\n",
            "(iv) Maximum of List 2: 30\n",
            "(v) Sum of List 1: 174\n",
            "(v) Sum of List 2: 211\n",
            "(v) Total Sum: 385\n"
          ]
        }
      ]
    },
    {
      "cell_type": "code",
      "source": [
        "# Q6"
      ],
      "metadata": {
        "id": "5q9fyerr4MRl"
      },
      "execution_count": null,
      "outputs": []
    },
    {
      "cell_type": "code",
      "source": [
        "import random\n",
        "\n",
        "# Create a list of 100 random numbers between 100 and 900\n",
        "numbers = [random.randint(100, 900) for _ in range(100)]\n",
        "print(f\"Generated Numbers:\\n{numbers}\\n\")\n",
        "\n",
        "# (i) Find all odd numbers\n",
        "odd_numbers = [num for num in numbers if num % 2 != 0]\n",
        "print(f\"(i) Odd Numbers ({len(odd_numbers)}):\\n{odd_numbers}\\n\")\n",
        "\n",
        "# (ii) Find all even numbers\n",
        "even_numbers = [num for num in numbers if num % 2 == 0]\n",
        "print(f\"(ii) Even Numbers ({len(even_numbers)}):\\n{even_numbers}\\n\")\n",
        "\n",
        "# (iii) Find all prime numbers\n",
        "def is_prime(n):\n",
        "    if n <= 1:\n",
        "        return False\n",
        "    for i in range(2, int(n**0.5) + 1):\n",
        "        if n % i == 0:\n",
        "            return False\n",
        "    return True\n",
        "\n",
        "prime_numbers = [num for num in numbers if is_prime(num)]\n",
        "print(f\"(iii) Prime Numbers ({len(prime_numbers)}):\\n{prime_numbers}\")\n"
      ],
      "metadata": {
        "colab": {
          "base_uri": "https://localhost:8080/"
        },
        "id": "uiE45QMn4OOF",
        "outputId": "5a1992b2-dfc4-4484-f753-b97fe6c0e7f8"
      },
      "execution_count": 61,
      "outputs": [
        {
          "output_type": "stream",
          "name": "stdout",
          "text": [
            "Generated Numbers:\n",
            "[544, 441, 307, 899, 449, 371, 719, 874, 498, 266, 238, 870, 405, 262, 540, 466, 420, 717, 796, 142, 702, 341, 258, 767, 764, 781, 290, 827, 508, 771, 511, 152, 452, 332, 321, 208, 775, 334, 694, 877, 578, 702, 184, 332, 564, 205, 317, 416, 784, 852, 665, 280, 539, 137, 111, 509, 588, 633, 516, 209, 450, 217, 404, 154, 818, 174, 452, 506, 318, 264, 859, 163, 897, 577, 666, 106, 341, 393, 504, 110, 509, 698, 669, 566, 437, 522, 155, 166, 196, 159, 482, 712, 447, 115, 289, 859, 276, 678, 206, 805]\n",
            "\n",
            "(i) Odd Numbers (43):\n",
            "[441, 307, 899, 449, 371, 719, 405, 717, 341, 767, 781, 827, 771, 511, 321, 775, 877, 205, 317, 665, 539, 137, 111, 509, 633, 209, 217, 859, 163, 897, 577, 341, 393, 509, 669, 437, 155, 159, 447, 115, 289, 859, 805]\n",
            "\n",
            "(ii) Even Numbers (57):\n",
            "[544, 874, 498, 266, 238, 870, 262, 540, 466, 420, 796, 142, 702, 258, 764, 290, 508, 152, 452, 332, 208, 334, 694, 578, 702, 184, 332, 564, 416, 784, 852, 280, 588, 516, 450, 404, 154, 818, 174, 452, 506, 318, 264, 666, 106, 504, 110, 698, 566, 522, 166, 196, 482, 712, 276, 678, 206]\n",
            "\n",
            "(iii) Prime Numbers (13):\n",
            "[307, 449, 719, 827, 877, 317, 137, 509, 859, 163, 577, 509, 859]\n"
          ]
        }
      ]
    },
    {
      "cell_type": "code",
      "source": [
        "# Q7"
      ],
      "metadata": {
        "id": "kCLygaZ45w5a"
      },
      "execution_count": null,
      "outputs": []
    },
    {
      "cell_type": "code",
      "source": [
        "# Define the dictionary\n",
        "D = {1: \"One\", 2: \"Two\", 3: \"Three\", 4: \"Four\", 5: \"Five\"}\n",
        "with open(\"output.txt\", \"w\") as file:\n",
        "    for key, value in D.items():\n",
        "        file.write(f\"{key}, {value}\\n\")"
      ],
      "metadata": {
        "colab": {
          "base_uri": "https://localhost:8080/"
        },
        "id": "Uk8SVF0D5y1_",
        "outputId": "5bee4ea9-b8b7-49f4-95a8-c7eacfaefaee"
      },
      "execution_count": 62,
      "outputs": [
        {
          "output_type": "stream",
          "name": "stdout",
          "text": [
            "Data has been written to output.txt successfully.\n"
          ]
        }
      ]
    },
    {
      "cell_type": "code",
      "source": [
        "# Q8"
      ],
      "metadata": {
        "id": "EkCQ3opz569g"
      },
      "execution_count": null,
      "outputs": []
    },
    {
      "cell_type": "code",
      "source": [
        "# Define the list\n",
        "L = [\"One\", \"Two\", \"Three\", \"Four\", \"Five\"]\n",
        "\n",
        "# Open the file in write mode\n",
        "with open(\"length.txt\", \"w\") as file:\n",
        "    for word in L:\n",
        "        file.write(f\"{word}, {len(word)}\\n\")"
      ],
      "metadata": {
        "colab": {
          "base_uri": "https://localhost:8080/"
        },
        "id": "OJutfIVf58qX",
        "outputId": "933bf2bf-7834-43cd-f3ad-659662cc39f8"
      },
      "execution_count": 63,
      "outputs": [
        {
          "output_type": "stream",
          "name": "stdout",
          "text": [
            "Word lengths have been written to length_output.txt successfully.\n"
          ]
        }
      ]
    },
    {
      "cell_type": "code",
      "source": [
        "# Q9"
      ],
      "metadata": {
        "id": "kqpdT3DA6Xsn"
      },
      "execution_count": null,
      "outputs": []
    },
    {
      "cell_type": "code",
      "source": [
        "import random\n",
        "import string\n",
        "\n",
        "with open(\"random_strings.txt\", \"w\") as file:\n",
        "    for _ in range(100):\n",
        "        length = random.randint(10, 15)\n",
        "        random_str = ''.join(random.choices(string.ascii_letters + string.digits, k=length))\n",
        "        file.write(f\"{random_str}\\n\")"
      ],
      "metadata": {
        "id": "Q7UGC0V56bRh"
      },
      "execution_count": null,
      "outputs": []
    },
    {
      "cell_type": "code",
      "source": [
        "# Q10"
      ],
      "metadata": {
        "id": "J9qCVIIO67JH"
      },
      "execution_count": null,
      "outputs": []
    },
    {
      "cell_type": "code",
      "source": [
        "def is_prime(n):\n",
        "    if n < 2:\n",
        "        return False\n",
        "    for i in range(2, int(n**0.5) + 1):\n",
        "        if n % i == 0:\n",
        "            return False\n",
        "    return True\n",
        "\n",
        "with open(\"prime_600_800.txt\", \"w\") as file:\n",
        "    for num in range(600, 801):\n",
        "        if is_prime(num):\n",
        "            file.write(f\"{num}\\n\")"
      ],
      "metadata": {
        "id": "kCl-RqIR683S"
      },
      "execution_count": null,
      "outputs": []
    },
    {
      "cell_type": "code",
      "source": [
        "# Q11"
      ],
      "metadata": {
        "id": "nFQUwIHT7BjD"
      },
      "execution_count": null,
      "outputs": []
    },
    {
      "cell_type": "code",
      "source": [
        "import time\n",
        "\n",
        "start_time = time.time()\n",
        "\n",
        "# Sample code block to measure\n",
        "for i in range(1, 10001):\n",
        "    pass\n",
        "\n",
        "end_time = time.time()\n",
        "\n",
        "print(f\"Time taken by the program: {end_time - start_time:.6f} seconds\")\n"
      ],
      "metadata": {
        "id": "oj-7XGjm7gQd"
      },
      "execution_count": null,
      "outputs": []
    },
    {
      "cell_type": "code",
      "source": [
        "# Q12"
      ],
      "metadata": {
        "id": "CgfZNAWd7ij1"
      },
      "execution_count": null,
      "outputs": []
    },
    {
      "cell_type": "code",
      "source": [
        "import time\n",
        "import random\n",
        "import matplotlib.pyplot as plt\n",
        "\n",
        "sizes = [5000, 10000, 15000, 20000, 25000]\n",
        "times = []\n",
        "\n",
        "for n in sizes:\n",
        "    numbers = [random.randint(1, 100000) for i in range(n)]\n",
        "    start = time.time()\n",
        "    numbers.sort()\n",
        "    end = time.time()\n",
        "    taken_time = end - start\n",
        "    times.append(taken_time)\n",
        "    print(f\"{n} numbers sorted in {taken_time:.4f} seconds\")\n",
        "\n",
        "# Draw graph\n",
        "plt.plot(sizes, times, marker='o')\n",
        "plt.xlabel(\"Number of Elements\")\n",
        "plt.ylabel(\"Time Taken (seconds)\")\n",
        "plt.title(\"Sorting Time Graph\")\n",
        "plt.grid(True)\n",
        "plt.show()"
      ],
      "metadata": {
        "id": "O1MrzanF7lOZ"
      },
      "execution_count": null,
      "outputs": []
    },
    {
      "cell_type": "code",
      "source": [
        "# Q13"
      ],
      "metadata": {
        "id": "LJI2iwvgA84L"
      },
      "execution_count": null,
      "outputs": []
    },
    {
      "cell_type": "code",
      "source": [
        "students = {\n",
        "    \"Ram\": [70, 80, 75, 85, 90],\n",
        "    \"Shyam\": [60, 65, 70, 60, 55],\n",
        "    \"Geeta\": [95, 90, 93, 88, 92]\n",
        "}\n",
        "\n",
        "averages = {}\n",
        "\n",
        "for name in students:\n",
        "    marks = students[name]\n",
        "    avg = sum(marks) / 5\n",
        "    averages[name] = avg\n",
        "    print(f\"{name}'s average: {avg}\")\n",
        "\n",
        "# Find highest and lowest average\n",
        "highest = max(averages, key=averages.get)\n",
        "lowest = min(averages, key=averages.get)\n",
        "\n",
        "print(f\"\\nHighest average: {highest} = {averages[highest]}\")\n",
        "print(f\"Lowest average: {lowest} = {averages[lowest]}\")"
      ],
      "metadata": {
        "id": "lDW3HTdbA-uo"
      },
      "execution_count": null,
      "outputs": []
    }
  ]
}